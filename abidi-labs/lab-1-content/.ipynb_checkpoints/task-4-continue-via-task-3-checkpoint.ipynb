{
 "cells": [
  {
   "cell_type": "markdown",
   "id": "b777f7e6",
   "metadata": {},
   "source": [
    "# TASK-1-Done-Via-Terminal"
   ]
  },
  {
   "cell_type": "markdown",
   "id": "ab1d991e",
   "metadata": {},
   "source": [
    "# TASK-2-Spacy-Hello-World"
   ]
  },
  {
   "cell_type": "code",
   "execution_count": null,
   "id": "993914ab",
   "metadata": {},
   "outputs": [],
   "source": [
    "pip install spacy"
   ]
  },
  {
   "cell_type": "code",
   "execution_count": null,
   "id": "bfe42f89",
   "metadata": {},
   "outputs": [],
   "source": [
    "python -m spacy download en_core_web_sm"
   ]
  },
  {
   "cell_type": "code",
   "execution_count": 3,
   "id": "1790badd",
   "metadata": {
    "scrolled": true
   },
   "outputs": [
    {
     "name": "stdout",
     "output_type": "stream",
     "text": [
      "Hello World! \n"
     ]
    }
   ],
   "source": [
    "from spacy.tokens.doc import Doc\n",
    "from spacy.vocab import Vocab\n",
    "doc = Doc(Vocab(), words = [u'Hello', u'World!'])\n",
    "print(doc)"
   ]
  },
  {
   "cell_type": "code",
   "execution_count": 5,
   "id": "0f98b2b7",
   "metadata": {},
   "outputs": [
    {
     "name": "stdout",
     "output_type": "stream",
     "text": [
      "<class 'spacy.tokens.doc.Doc'>\n",
      "<spacy.vocab.Vocab object at 0x7f90316993a0>\n",
      "Hello\n",
      "World!\n"
     ]
    }
   ],
   "source": [
    "print(type(doc))\n",
    "print(doc.vocab)\n",
    "for token in doc:\n",
    "    lexeme = doc.vocab[token.text]\n",
    "    print(lexeme.text)"
   ]
  },
  {
   "cell_type": "code",
   "execution_count": 7,
   "id": "5d0ab51e",
   "metadata": {},
   "outputs": [
    {
     "name": "stdout",
     "output_type": "stream",
     "text": [
      "['I', 'want', 'to', 'learn', 'spaCy', '.']\n",
      "['I', 'want', 'to', 'learn', 'spaCy', '.']\n"
     ]
    }
   ],
   "source": [
    "import spacy\n",
    "nlp = spacy.load('en_core_web_sm')\n",
    "doc = nlp(u'I want to learn spaCy.')\n",
    "token_text1 = [token.text for token in doc]\n",
    "token_text2 = [doc[i].text for i in range(len(doc))]\n",
    "print(token_text1)\n",
    "print(token_text2)"
   ]
  },
  {
   "cell_type": "markdown",
   "id": "c093ba48",
   "metadata": {},
   "source": [
    "1. What is en_core_web_sm?\n",
    "### Answer: en_core_web_sm is a statistical model in spaCy for English. It's a small English pipeline trained on web data.\n",
    "2. What is the size of en_core_web_sm?\n",
    "### Answer: The size of en_core_web_sm can vary based on the specific version but typically includes linguistic annotations like part-of-speech tags, named entities, dependency parse, etc.\n",
    "3. What other variations can be used?\n",
    "### Answer: Other variations/models in spaCy include en_core_web_md (medium-sized) and en_core_web_lg (large-sized) models."
   ]
  },
  {
   "cell_type": "code",
   "execution_count": 11,
   "id": "c538b9fd",
   "metadata": {},
   "outputs": [
    {
     "name": "stdout",
     "output_type": "stream",
     "text": [
      "[]\n",
      "[I]\n",
      "[]\n",
      "[to]\n",
      "[]\n",
      "[]\n"
     ]
    }
   ],
   "source": [
    "doc = nlp(u'I want to learn spaCy.')\n",
    "for i in range(len(doc)):\n",
    "    print([t for t in doc[i].lefts])"
   ]
  },
  {
   "cell_type": "code",
   "execution_count": 14,
   "id": "2ba5c338",
   "metadata": {},
   "outputs": [
    {
     "name": "stdout",
     "output_type": "stream",
     "text": [
      "[]\n",
      "[]\n",
      "[learn, .]\n",
      "[I, learn, .]\n",
      "[]\n",
      "[]\n",
      "[spaCy]\n",
      "[to, spaCy]\n",
      "[]\n",
      "[]\n",
      "[]\n",
      "[]\n"
     ]
    }
   ],
   "source": [
    "doc = nlp(u'I want to learn spaCy.')\n",
    "for i in range(len(doc)):\n",
    "    print([t for t in doc[i].rights])\n",
    "    print([t for t in doc[i].children])"
   ]
  },
  {
   "cell_type": "code",
   "execution_count": 15,
   "id": "f760fbb6",
   "metadata": {},
   "outputs": [],
   "source": [
    "from spacy import displacy"
   ]
  },
  {
   "cell_type": "code",
   "execution_count": 16,
   "id": "b8d218ca",
   "metadata": {},
   "outputs": [
    {
     "data": {
      "text/html": [
       "<span class=\"tex2jax_ignore\"><svg xmlns=\"http://www.w3.org/2000/svg\" xmlns:xlink=\"http://www.w3.org/1999/xlink\" xml:lang=\"en\" id=\"8fa9c1f53f294aabbd376a4bf735dc16-0\" class=\"displacy\" width=\"925\" height=\"312.0\" direction=\"ltr\" style=\"max-width: none; height: 312.0px; color: #000000; background: #ffffff; font-family: Arial; direction: ltr\">\n",
       "<text class=\"displacy-token\" fill=\"currentColor\" text-anchor=\"middle\" y=\"222.0\">\n",
       "    <tspan class=\"displacy-word\" fill=\"currentColor\" x=\"50\">I</tspan>\n",
       "    <tspan class=\"displacy-tag\" dy=\"2em\" fill=\"currentColor\" x=\"50\">PRON</tspan>\n",
       "</text>\n",
       "\n",
       "<text class=\"displacy-token\" fill=\"currentColor\" text-anchor=\"middle\" y=\"222.0\">\n",
       "    <tspan class=\"displacy-word\" fill=\"currentColor\" x=\"225\">want</tspan>\n",
       "    <tspan class=\"displacy-tag\" dy=\"2em\" fill=\"currentColor\" x=\"225\">VERB</tspan>\n",
       "</text>\n",
       "\n",
       "<text class=\"displacy-token\" fill=\"currentColor\" text-anchor=\"middle\" y=\"222.0\">\n",
       "    <tspan class=\"displacy-word\" fill=\"currentColor\" x=\"400\">to</tspan>\n",
       "    <tspan class=\"displacy-tag\" dy=\"2em\" fill=\"currentColor\" x=\"400\">PART</tspan>\n",
       "</text>\n",
       "\n",
       "<text class=\"displacy-token\" fill=\"currentColor\" text-anchor=\"middle\" y=\"222.0\">\n",
       "    <tspan class=\"displacy-word\" fill=\"currentColor\" x=\"575\">learn</tspan>\n",
       "    <tspan class=\"displacy-tag\" dy=\"2em\" fill=\"currentColor\" x=\"575\">VERB</tspan>\n",
       "</text>\n",
       "\n",
       "<text class=\"displacy-token\" fill=\"currentColor\" text-anchor=\"middle\" y=\"222.0\">\n",
       "    <tspan class=\"displacy-word\" fill=\"currentColor\" x=\"750\">spaCy.</tspan>\n",
       "    <tspan class=\"displacy-tag\" dy=\"2em\" fill=\"currentColor\" x=\"750\">ADJ</tspan>\n",
       "</text>\n",
       "\n",
       "<g class=\"displacy-arrow\">\n",
       "    <path class=\"displacy-arc\" id=\"arrow-8fa9c1f53f294aabbd376a4bf735dc16-0-0\" stroke-width=\"2px\" d=\"M70,177.0 C70,89.5 220.0,89.5 220.0,177.0\" fill=\"none\" stroke=\"currentColor\"/>\n",
       "    <text dy=\"1.25em\" style=\"font-size: 0.8em; letter-spacing: 1px\">\n",
       "        <textPath xlink:href=\"#arrow-8fa9c1f53f294aabbd376a4bf735dc16-0-0\" class=\"displacy-label\" startOffset=\"50%\" side=\"left\" fill=\"currentColor\" text-anchor=\"middle\">nsubj</textPath>\n",
       "    </text>\n",
       "    <path class=\"displacy-arrowhead\" d=\"M70,179.0 L62,167.0 78,167.0\" fill=\"currentColor\"/>\n",
       "</g>\n",
       "\n",
       "<g class=\"displacy-arrow\">\n",
       "    <path class=\"displacy-arc\" id=\"arrow-8fa9c1f53f294aabbd376a4bf735dc16-0-1\" stroke-width=\"2px\" d=\"M420,177.0 C420,89.5 570.0,89.5 570.0,177.0\" fill=\"none\" stroke=\"currentColor\"/>\n",
       "    <text dy=\"1.25em\" style=\"font-size: 0.8em; letter-spacing: 1px\">\n",
       "        <textPath xlink:href=\"#arrow-8fa9c1f53f294aabbd376a4bf735dc16-0-1\" class=\"displacy-label\" startOffset=\"50%\" side=\"left\" fill=\"currentColor\" text-anchor=\"middle\">aux</textPath>\n",
       "    </text>\n",
       "    <path class=\"displacy-arrowhead\" d=\"M420,179.0 L412,167.0 428,167.0\" fill=\"currentColor\"/>\n",
       "</g>\n",
       "\n",
       "<g class=\"displacy-arrow\">\n",
       "    <path class=\"displacy-arc\" id=\"arrow-8fa9c1f53f294aabbd376a4bf735dc16-0-2\" stroke-width=\"2px\" d=\"M245,177.0 C245,2.0 575.0,2.0 575.0,177.0\" fill=\"none\" stroke=\"currentColor\"/>\n",
       "    <text dy=\"1.25em\" style=\"font-size: 0.8em; letter-spacing: 1px\">\n",
       "        <textPath xlink:href=\"#arrow-8fa9c1f53f294aabbd376a4bf735dc16-0-2\" class=\"displacy-label\" startOffset=\"50%\" side=\"left\" fill=\"currentColor\" text-anchor=\"middle\">xcomp</textPath>\n",
       "    </text>\n",
       "    <path class=\"displacy-arrowhead\" d=\"M575.0,179.0 L583.0,167.0 567.0,167.0\" fill=\"currentColor\"/>\n",
       "</g>\n",
       "\n",
       "<g class=\"displacy-arrow\">\n",
       "    <path class=\"displacy-arc\" id=\"arrow-8fa9c1f53f294aabbd376a4bf735dc16-0-3\" stroke-width=\"2px\" d=\"M595,177.0 C595,89.5 745.0,89.5 745.0,177.0\" fill=\"none\" stroke=\"currentColor\"/>\n",
       "    <text dy=\"1.25em\" style=\"font-size: 0.8em; letter-spacing: 1px\">\n",
       "        <textPath xlink:href=\"#arrow-8fa9c1f53f294aabbd376a4bf735dc16-0-3\" class=\"displacy-label\" startOffset=\"50%\" side=\"left\" fill=\"currentColor\" text-anchor=\"middle\">dobj</textPath>\n",
       "    </text>\n",
       "    <path class=\"displacy-arrowhead\" d=\"M745.0,179.0 L753.0,167.0 737.0,167.0\" fill=\"currentColor\"/>\n",
       "</g>\n",
       "</svg></span>"
      ],
      "text/plain": [
       "<IPython.core.display.HTML object>"
      ]
     },
     "metadata": {},
     "output_type": "display_data"
    }
   ],
   "source": [
    "displacy.render(doc, style='dep')"
   ]
  },
  {
   "cell_type": "markdown",
   "id": "d6fd75e1",
   "metadata": {},
   "source": [
    "1. Draw the left and right dependencies for the sentence: I want to learn spaCy.\n",
    "2. Draw the children for the sentence: I want to learn spaCy.\n",
    "3. Draw the left and right dependencies for the sentence: I would very much want to eat a hot dinner.\n",
    "4. Present a list of all dependency grammars of your sentences above."
   ]
  },
  {
   "cell_type": "code",
   "execution_count": 6,
   "id": "751966fa",
   "metadata": {},
   "outputs": [
    {
     "name": "stdout",
     "output_type": "stream",
     "text": [
      "Left and right dependencies for 'I want to learn spaCy.':\n",
      "Token: I, Lefts: [], Rights: []\n",
      "Token: want, Lefts: ['I'], Rights: ['learn', '.']\n",
      "Token: to, Lefts: [], Rights: []\n",
      "Token: learn, Lefts: ['to'], Rights: ['spaCy']\n",
      "Token: spaCy, Lefts: [], Rights: []\n",
      "Token: ., Lefts: [], Rights: []\n",
      "-------------------------------\n",
      "Children for 'I want to learn spaCy.':\n",
      "Token: I, Children: []\n",
      "Token: want, Children: ['I', 'learn', '.']\n",
      "Token: to, Children: []\n",
      "Token: learn, Children: ['to', 'spaCy']\n",
      "Token: spaCy, Children: []\n",
      "Token: ., Children: []\n",
      "-------------------------------\n",
      "Dependency visualization for 'I want to learn spaCy.':\n"
     ]
    },
    {
     "data": {
      "text/html": [
       "<span class=\"tex2jax_ignore\"><svg xmlns=\"http://www.w3.org/2000/svg\" xmlns:xlink=\"http://www.w3.org/1999/xlink\" xml:lang=\"en\" id=\"e034f0a3b7b04ba68bc037511caa1f70-0\" class=\"displacy\" width=\"650\" height=\"257.0\" direction=\"ltr\" style=\"max-width: none; height: 257.0px; color: #000000; background: #ffffff; font-family: Arial; direction: ltr\">\n",
       "<text class=\"displacy-token\" fill=\"currentColor\" text-anchor=\"middle\" y=\"167.0\">\n",
       "    <tspan class=\"displacy-word\" fill=\"currentColor\" x=\"50\">I</tspan>\n",
       "    <tspan class=\"displacy-tag\" dy=\"2em\" fill=\"currentColor\" x=\"50\">PRON</tspan>\n",
       "</text>\n",
       "\n",
       "<text class=\"displacy-token\" fill=\"currentColor\" text-anchor=\"middle\" y=\"167.0\">\n",
       "    <tspan class=\"displacy-word\" fill=\"currentColor\" x=\"170\">want</tspan>\n",
       "    <tspan class=\"displacy-tag\" dy=\"2em\" fill=\"currentColor\" x=\"170\">VERB</tspan>\n",
       "</text>\n",
       "\n",
       "<text class=\"displacy-token\" fill=\"currentColor\" text-anchor=\"middle\" y=\"167.0\">\n",
       "    <tspan class=\"displacy-word\" fill=\"currentColor\" x=\"290\">to</tspan>\n",
       "    <tspan class=\"displacy-tag\" dy=\"2em\" fill=\"currentColor\" x=\"290\">PART</tspan>\n",
       "</text>\n",
       "\n",
       "<text class=\"displacy-token\" fill=\"currentColor\" text-anchor=\"middle\" y=\"167.0\">\n",
       "    <tspan class=\"displacy-word\" fill=\"currentColor\" x=\"410\">learn</tspan>\n",
       "    <tspan class=\"displacy-tag\" dy=\"2em\" fill=\"currentColor\" x=\"410\">VERB</tspan>\n",
       "</text>\n",
       "\n",
       "<text class=\"displacy-token\" fill=\"currentColor\" text-anchor=\"middle\" y=\"167.0\">\n",
       "    <tspan class=\"displacy-word\" fill=\"currentColor\" x=\"530\">spaCy.</tspan>\n",
       "    <tspan class=\"displacy-tag\" dy=\"2em\" fill=\"currentColor\" x=\"530\">ADJ</tspan>\n",
       "</text>\n",
       "\n",
       "<g class=\"displacy-arrow\">\n",
       "    <path class=\"displacy-arc\" id=\"arrow-e034f0a3b7b04ba68bc037511caa1f70-0-0\" stroke-width=\"2px\" d=\"M62,122.0 62,102.0 167.0,102.0 167.0,122.0\" fill=\"none\" stroke=\"currentColor\"/>\n",
       "    <text dy=\"1.25em\" style=\"font-size: 0.8em; letter-spacing: 1px\">\n",
       "        <textPath xlink:href=\"#arrow-e034f0a3b7b04ba68bc037511caa1f70-0-0\" class=\"displacy-label\" startOffset=\"50%\" side=\"left\" fill=\"currentColor\" text-anchor=\"middle\">nsubj</textPath>\n",
       "    </text>\n",
       "    <path class=\"displacy-arrowhead\" d=\"M62,124.0 L58,116.0 66,116.0\" fill=\"currentColor\"/>\n",
       "</g>\n",
       "\n",
       "<g class=\"displacy-arrow\">\n",
       "    <path class=\"displacy-arc\" id=\"arrow-e034f0a3b7b04ba68bc037511caa1f70-0-1\" stroke-width=\"2px\" d=\"M302,122.0 302,102.0 407.0,102.0 407.0,122.0\" fill=\"none\" stroke=\"currentColor\"/>\n",
       "    <text dy=\"1.25em\" style=\"font-size: 0.8em; letter-spacing: 1px\">\n",
       "        <textPath xlink:href=\"#arrow-e034f0a3b7b04ba68bc037511caa1f70-0-1\" class=\"displacy-label\" startOffset=\"50%\" side=\"left\" fill=\"currentColor\" text-anchor=\"middle\">aux</textPath>\n",
       "    </text>\n",
       "    <path class=\"displacy-arrowhead\" d=\"M302,124.0 L298,116.0 306,116.0\" fill=\"currentColor\"/>\n",
       "</g>\n",
       "\n",
       "<g class=\"displacy-arrow\">\n",
       "    <path class=\"displacy-arc\" id=\"arrow-e034f0a3b7b04ba68bc037511caa1f70-0-2\" stroke-width=\"2px\" d=\"M182,122.0 182,82.0 410.0,82.0 410.0,122.0\" fill=\"none\" stroke=\"currentColor\"/>\n",
       "    <text dy=\"1.25em\" style=\"font-size: 0.8em; letter-spacing: 1px\">\n",
       "        <textPath xlink:href=\"#arrow-e034f0a3b7b04ba68bc037511caa1f70-0-2\" class=\"displacy-label\" startOffset=\"50%\" side=\"left\" fill=\"currentColor\" text-anchor=\"middle\">xcomp</textPath>\n",
       "    </text>\n",
       "    <path class=\"displacy-arrowhead\" d=\"M410.0,124.0 L414.0,116.0 406.0,116.0\" fill=\"currentColor\"/>\n",
       "</g>\n",
       "\n",
       "<g class=\"displacy-arrow\">\n",
       "    <path class=\"displacy-arc\" id=\"arrow-e034f0a3b7b04ba68bc037511caa1f70-0-3\" stroke-width=\"2px\" d=\"M422,122.0 422,102.0 527.0,102.0 527.0,122.0\" fill=\"none\" stroke=\"currentColor\"/>\n",
       "    <text dy=\"1.25em\" style=\"font-size: 0.8em; letter-spacing: 1px\">\n",
       "        <textPath xlink:href=\"#arrow-e034f0a3b7b04ba68bc037511caa1f70-0-3\" class=\"displacy-label\" startOffset=\"50%\" side=\"left\" fill=\"currentColor\" text-anchor=\"middle\">dobj</textPath>\n",
       "    </text>\n",
       "    <path class=\"displacy-arrowhead\" d=\"M527.0,124.0 L531.0,116.0 523.0,116.0\" fill=\"currentColor\"/>\n",
       "</g>\n",
       "</svg></span>"
      ],
      "text/plain": [
       "<IPython.core.display.HTML object>"
      ]
     },
     "metadata": {},
     "output_type": "display_data"
    },
    {
     "name": "stdout",
     "output_type": "stream",
     "text": [
      "Left and right dependencies for 'I would very much want to eat a hot dinner.':\n",
      "Token: I, Lefts: [], Rights: []\n",
      "Token: would, Lefts: [], Rights: []\n",
      "Token: very, Lefts: [], Rights: []\n",
      "Token: much, Lefts: ['very'], Rights: []\n",
      "Token: want, Lefts: ['I', 'would', 'much'], Rights: ['eat', '.']\n",
      "Token: to, Lefts: [], Rights: []\n",
      "Token: eat, Lefts: ['to'], Rights: ['dinner']\n",
      "Token: a, Lefts: [], Rights: []\n",
      "Token: hot, Lefts: [], Rights: []\n",
      "Token: dinner, Lefts: ['a', 'hot'], Rights: []\n",
      "Token: ., Lefts: [], Rights: []\n",
      "-------------------------------\n",
      "Children for 'I would very much want to eat a hot dinner.':\n",
      "Token: I, Children: []\n",
      "Token: would, Children: []\n",
      "Token: very, Children: []\n",
      "Token: much, Children: ['very']\n",
      "Token: want, Children: ['I', 'would', 'much', 'eat', '.']\n",
      "Token: to, Children: []\n",
      "Token: eat, Children: ['to', 'dinner']\n",
      "Token: a, Children: []\n",
      "Token: hot, Children: []\n",
      "Token: dinner, Children: ['a', 'hot']\n",
      "Token: ., Children: []\n",
      "-------------------------------\n",
      "Dependency visualization for 'I would very much want to eat a hot dinner.':\n"
     ]
    },
    {
     "data": {
      "text/html": [
       "<span class=\"tex2jax_ignore\"><svg xmlns=\"http://www.w3.org/2000/svg\" xmlns:xlink=\"http://www.w3.org/1999/xlink\" xml:lang=\"en\" id=\"9772426d5c3a48a793251ec40a43fe8d-0\" class=\"displacy\" width=\"1250\" height=\"317.0\" direction=\"ltr\" style=\"max-width: none; height: 317.0px; color: #000000; background: #ffffff; font-family: Arial; direction: ltr\">\n",
       "<text class=\"displacy-token\" fill=\"currentColor\" text-anchor=\"middle\" y=\"227.0\">\n",
       "    <tspan class=\"displacy-word\" fill=\"currentColor\" x=\"50\">I</tspan>\n",
       "    <tspan class=\"displacy-tag\" dy=\"2em\" fill=\"currentColor\" x=\"50\">PRON</tspan>\n",
       "</text>\n",
       "\n",
       "<text class=\"displacy-token\" fill=\"currentColor\" text-anchor=\"middle\" y=\"227.0\">\n",
       "    <tspan class=\"displacy-word\" fill=\"currentColor\" x=\"170\">would</tspan>\n",
       "    <tspan class=\"displacy-tag\" dy=\"2em\" fill=\"currentColor\" x=\"170\">AUX</tspan>\n",
       "</text>\n",
       "\n",
       "<text class=\"displacy-token\" fill=\"currentColor\" text-anchor=\"middle\" y=\"227.0\">\n",
       "    <tspan class=\"displacy-word\" fill=\"currentColor\" x=\"290\">very</tspan>\n",
       "    <tspan class=\"displacy-tag\" dy=\"2em\" fill=\"currentColor\" x=\"290\">ADV</tspan>\n",
       "</text>\n",
       "\n",
       "<text class=\"displacy-token\" fill=\"currentColor\" text-anchor=\"middle\" y=\"227.0\">\n",
       "    <tspan class=\"displacy-word\" fill=\"currentColor\" x=\"410\">much</tspan>\n",
       "    <tspan class=\"displacy-tag\" dy=\"2em\" fill=\"currentColor\" x=\"410\">ADV</tspan>\n",
       "</text>\n",
       "\n",
       "<text class=\"displacy-token\" fill=\"currentColor\" text-anchor=\"middle\" y=\"227.0\">\n",
       "    <tspan class=\"displacy-word\" fill=\"currentColor\" x=\"530\">want</tspan>\n",
       "    <tspan class=\"displacy-tag\" dy=\"2em\" fill=\"currentColor\" x=\"530\">VERB</tspan>\n",
       "</text>\n",
       "\n",
       "<text class=\"displacy-token\" fill=\"currentColor\" text-anchor=\"middle\" y=\"227.0\">\n",
       "    <tspan class=\"displacy-word\" fill=\"currentColor\" x=\"650\">to</tspan>\n",
       "    <tspan class=\"displacy-tag\" dy=\"2em\" fill=\"currentColor\" x=\"650\">PART</tspan>\n",
       "</text>\n",
       "\n",
       "<text class=\"displacy-token\" fill=\"currentColor\" text-anchor=\"middle\" y=\"227.0\">\n",
       "    <tspan class=\"displacy-word\" fill=\"currentColor\" x=\"770\">eat</tspan>\n",
       "    <tspan class=\"displacy-tag\" dy=\"2em\" fill=\"currentColor\" x=\"770\">VERB</tspan>\n",
       "</text>\n",
       "\n",
       "<text class=\"displacy-token\" fill=\"currentColor\" text-anchor=\"middle\" y=\"227.0\">\n",
       "    <tspan class=\"displacy-word\" fill=\"currentColor\" x=\"890\">a</tspan>\n",
       "    <tspan class=\"displacy-tag\" dy=\"2em\" fill=\"currentColor\" x=\"890\">DET</tspan>\n",
       "</text>\n",
       "\n",
       "<text class=\"displacy-token\" fill=\"currentColor\" text-anchor=\"middle\" y=\"227.0\">\n",
       "    <tspan class=\"displacy-word\" fill=\"currentColor\" x=\"1010\">hot</tspan>\n",
       "    <tspan class=\"displacy-tag\" dy=\"2em\" fill=\"currentColor\" x=\"1010\">ADJ</tspan>\n",
       "</text>\n",
       "\n",
       "<text class=\"displacy-token\" fill=\"currentColor\" text-anchor=\"middle\" y=\"227.0\">\n",
       "    <tspan class=\"displacy-word\" fill=\"currentColor\" x=\"1130\">dinner.</tspan>\n",
       "    <tspan class=\"displacy-tag\" dy=\"2em\" fill=\"currentColor\" x=\"1130\">NOUN</tspan>\n",
       "</text>\n",
       "\n",
       "<g class=\"displacy-arrow\">\n",
       "    <path class=\"displacy-arc\" id=\"arrow-9772426d5c3a48a793251ec40a43fe8d-0-0\" stroke-width=\"2px\" d=\"M62,182.0 62,122.0 530.0,122.0 530.0,182.0\" fill=\"none\" stroke=\"currentColor\"/>\n",
       "    <text dy=\"1.25em\" style=\"font-size: 0.8em; letter-spacing: 1px\">\n",
       "        <textPath xlink:href=\"#arrow-9772426d5c3a48a793251ec40a43fe8d-0-0\" class=\"displacy-label\" startOffset=\"50%\" side=\"left\" fill=\"currentColor\" text-anchor=\"middle\">nsubj</textPath>\n",
       "    </text>\n",
       "    <path class=\"displacy-arrowhead\" d=\"M62,184.0 L58,176.0 66,176.0\" fill=\"currentColor\"/>\n",
       "</g>\n",
       "\n",
       "<g class=\"displacy-arrow\">\n",
       "    <path class=\"displacy-arc\" id=\"arrow-9772426d5c3a48a793251ec40a43fe8d-0-1\" stroke-width=\"2px\" d=\"M182,182.0 182,142.0 527.0,142.0 527.0,182.0\" fill=\"none\" stroke=\"currentColor\"/>\n",
       "    <text dy=\"1.25em\" style=\"font-size: 0.8em; letter-spacing: 1px\">\n",
       "        <textPath xlink:href=\"#arrow-9772426d5c3a48a793251ec40a43fe8d-0-1\" class=\"displacy-label\" startOffset=\"50%\" side=\"left\" fill=\"currentColor\" text-anchor=\"middle\">aux</textPath>\n",
       "    </text>\n",
       "    <path class=\"displacy-arrowhead\" d=\"M182,184.0 L178,176.0 186,176.0\" fill=\"currentColor\"/>\n",
       "</g>\n",
       "\n",
       "<g class=\"displacy-arrow\">\n",
       "    <path class=\"displacy-arc\" id=\"arrow-9772426d5c3a48a793251ec40a43fe8d-0-2\" stroke-width=\"2px\" d=\"M302,182.0 302,162.0 404.0,162.0 404.0,182.0\" fill=\"none\" stroke=\"currentColor\"/>\n",
       "    <text dy=\"1.25em\" style=\"font-size: 0.8em; letter-spacing: 1px\">\n",
       "        <textPath xlink:href=\"#arrow-9772426d5c3a48a793251ec40a43fe8d-0-2\" class=\"displacy-label\" startOffset=\"50%\" side=\"left\" fill=\"currentColor\" text-anchor=\"middle\">advmod</textPath>\n",
       "    </text>\n",
       "    <path class=\"displacy-arrowhead\" d=\"M302,184.0 L298,176.0 306,176.0\" fill=\"currentColor\"/>\n",
       "</g>\n",
       "\n",
       "<g class=\"displacy-arrow\">\n",
       "    <path class=\"displacy-arc\" id=\"arrow-9772426d5c3a48a793251ec40a43fe8d-0-3\" stroke-width=\"2px\" d=\"M422,182.0 422,162.0 524.0,162.0 524.0,182.0\" fill=\"none\" stroke=\"currentColor\"/>\n",
       "    <text dy=\"1.25em\" style=\"font-size: 0.8em; letter-spacing: 1px\">\n",
       "        <textPath xlink:href=\"#arrow-9772426d5c3a48a793251ec40a43fe8d-0-3\" class=\"displacy-label\" startOffset=\"50%\" side=\"left\" fill=\"currentColor\" text-anchor=\"middle\">advmod</textPath>\n",
       "    </text>\n",
       "    <path class=\"displacy-arrowhead\" d=\"M422,184.0 L418,176.0 426,176.0\" fill=\"currentColor\"/>\n",
       "</g>\n",
       "\n",
       "<g class=\"displacy-arrow\">\n",
       "    <path class=\"displacy-arc\" id=\"arrow-9772426d5c3a48a793251ec40a43fe8d-0-4\" stroke-width=\"2px\" d=\"M662,182.0 662,162.0 764.0,162.0 764.0,182.0\" fill=\"none\" stroke=\"currentColor\"/>\n",
       "    <text dy=\"1.25em\" style=\"font-size: 0.8em; letter-spacing: 1px\">\n",
       "        <textPath xlink:href=\"#arrow-9772426d5c3a48a793251ec40a43fe8d-0-4\" class=\"displacy-label\" startOffset=\"50%\" side=\"left\" fill=\"currentColor\" text-anchor=\"middle\">aux</textPath>\n",
       "    </text>\n",
       "    <path class=\"displacy-arrowhead\" d=\"M662,184.0 L658,176.0 666,176.0\" fill=\"currentColor\"/>\n",
       "</g>\n",
       "\n",
       "<g class=\"displacy-arrow\">\n",
       "    <path class=\"displacy-arc\" id=\"arrow-9772426d5c3a48a793251ec40a43fe8d-0-5\" stroke-width=\"2px\" d=\"M542,182.0 542,142.0 767.0,142.0 767.0,182.0\" fill=\"none\" stroke=\"currentColor\"/>\n",
       "    <text dy=\"1.25em\" style=\"font-size: 0.8em; letter-spacing: 1px\">\n",
       "        <textPath xlink:href=\"#arrow-9772426d5c3a48a793251ec40a43fe8d-0-5\" class=\"displacy-label\" startOffset=\"50%\" side=\"left\" fill=\"currentColor\" text-anchor=\"middle\">xcomp</textPath>\n",
       "    </text>\n",
       "    <path class=\"displacy-arrowhead\" d=\"M767.0,184.0 L771.0,176.0 763.0,176.0\" fill=\"currentColor\"/>\n",
       "</g>\n",
       "\n",
       "<g class=\"displacy-arrow\">\n",
       "    <path class=\"displacy-arc\" id=\"arrow-9772426d5c3a48a793251ec40a43fe8d-0-6\" stroke-width=\"2px\" d=\"M902,182.0 902,142.0 1127.0,142.0 1127.0,182.0\" fill=\"none\" stroke=\"currentColor\"/>\n",
       "    <text dy=\"1.25em\" style=\"font-size: 0.8em; letter-spacing: 1px\">\n",
       "        <textPath xlink:href=\"#arrow-9772426d5c3a48a793251ec40a43fe8d-0-6\" class=\"displacy-label\" startOffset=\"50%\" side=\"left\" fill=\"currentColor\" text-anchor=\"middle\">det</textPath>\n",
       "    </text>\n",
       "    <path class=\"displacy-arrowhead\" d=\"M902,184.0 L898,176.0 906,176.0\" fill=\"currentColor\"/>\n",
       "</g>\n",
       "\n",
       "<g class=\"displacy-arrow\">\n",
       "    <path class=\"displacy-arc\" id=\"arrow-9772426d5c3a48a793251ec40a43fe8d-0-7\" stroke-width=\"2px\" d=\"M1022,182.0 1022,162.0 1124.0,162.0 1124.0,182.0\" fill=\"none\" stroke=\"currentColor\"/>\n",
       "    <text dy=\"1.25em\" style=\"font-size: 0.8em; letter-spacing: 1px\">\n",
       "        <textPath xlink:href=\"#arrow-9772426d5c3a48a793251ec40a43fe8d-0-7\" class=\"displacy-label\" startOffset=\"50%\" side=\"left\" fill=\"currentColor\" text-anchor=\"middle\">amod</textPath>\n",
       "    </text>\n",
       "    <path class=\"displacy-arrowhead\" d=\"M1022,184.0 L1018,176.0 1026,176.0\" fill=\"currentColor\"/>\n",
       "</g>\n",
       "\n",
       "<g class=\"displacy-arrow\">\n",
       "    <path class=\"displacy-arc\" id=\"arrow-9772426d5c3a48a793251ec40a43fe8d-0-8\" stroke-width=\"2px\" d=\"M782,182.0 782,122.0 1130.0,122.0 1130.0,182.0\" fill=\"none\" stroke=\"currentColor\"/>\n",
       "    <text dy=\"1.25em\" style=\"font-size: 0.8em; letter-spacing: 1px\">\n",
       "        <textPath xlink:href=\"#arrow-9772426d5c3a48a793251ec40a43fe8d-0-8\" class=\"displacy-label\" startOffset=\"50%\" side=\"left\" fill=\"currentColor\" text-anchor=\"middle\">dobj</textPath>\n",
       "    </text>\n",
       "    <path class=\"displacy-arrowhead\" d=\"M1130.0,184.0 L1134.0,176.0 1126.0,176.0\" fill=\"currentColor\"/>\n",
       "</g>\n",
       "</svg></span>"
      ],
      "text/plain": [
       "<IPython.core.display.HTML object>"
      ]
     },
     "metadata": {},
     "output_type": "display_data"
    }
   ],
   "source": [
    "import spacy\n",
    "from spacy import displacy\n",
    "\n",
    "nlp = spacy.load('en_core_web_sm')\n",
    "\n",
    "sentences = [\n",
    "    \"I want to learn spaCy.\",\n",
    "    \"I would very much want to eat a hot dinner.\"\n",
    "]\n",
    "\n",
    "for sent in sentences:\n",
    "    doc = nlp(sent)\n",
    "    \n",
    "    print(f\"Left and right dependencies for '{sent}':\")\n",
    "    for token in doc:\n",
    "        print(f\"Token: {token.text}, Lefts: {[t.text for t in token.lefts]}, Rights: {[t.text for t in token.rights]}\")\n",
    "    print(\"-------------------------------\")\n",
    "    \n",
    "    print(f\"Children for '{sent}':\")\n",
    "    for token in doc:\n",
    "        print(f\"Token: {token.text}, Children: {[t.text for t in token.children]}\")\n",
    "    print(\"-------------------------------\")\n",
    "    \n",
    "    print(f\"Dependency visualization for '{sent}':\")\n",
    "    displacy.render(doc, style='dep', options={'compact': True, 'distance': 120})\n"
   ]
  },
  {
   "cell_type": "markdown",
   "id": "bb4cdf3b",
   "metadata": {},
   "source": [
    "# TASK-3"
   ]
  },
  {
   "cell_type": "code",
   "execution_count": 19,
   "id": "2ed66f17",
   "metadata": {},
   "outputs": [],
   "source": [
    "texts = [u\"We are nearing the end of the semester at Peshawar. Final exams of the Fall 2023 semester will start soon.\"]"
   ]
  },
  {
   "cell_type": "code",
   "execution_count": 23,
   "id": "3954f127",
   "metadata": {},
   "outputs": [
    {
     "name": "stdout",
     "output_type": "stream",
     "text": [
      "['We are nearing the end of the semester at Peshawar.', 'Final exams of the Fall 2023 semester will start soon.']\n"
     ]
    }
   ],
   "source": [
    "import nltk\n",
    "for text in texts:\n",
    "    sentences = nltk.sent_tokenize(text)\n",
    "    print(sentences)"
   ]
  },
  {
   "cell_type": "code",
   "execution_count": 25,
   "id": "a17fc3dc",
   "metadata": {},
   "outputs": [
    {
     "name": "stdout",
     "output_type": "stream",
     "text": [
      "['We', 'are', 'nearing', 'the', 'end', 'of', 'the', 'semester', 'at', 'Peshawar', '.']\n",
      "['Final', 'exams', 'of', 'the', 'Fall', '2023', 'semester', 'will', 'start', 'soon', '.']\n"
     ]
    }
   ],
   "source": [
    "for sentence in sentences:\n",
    "    words = nltk.word_tokenize(sentence)\n",
    "    print(words)"
   ]
  },
  {
   "cell_type": "code",
   "execution_count": 26,
   "id": "ac5ddcdf",
   "metadata": {},
   "outputs": [
    {
     "name": "stdout",
     "output_type": "stream",
     "text": [
      "[('Final', 'JJ'), ('exams', 'NN'), ('of', 'IN'), ('the', 'DT'), ('Fall', 'NN'), ('2023', 'CD'), ('semester', 'NN'), ('will', 'MD'), ('start', 'VB'), ('soon', 'RB'), ('.', '.')]\n"
     ]
    }
   ],
   "source": [
    "tagged_words = nltk.pos_tag(words)\n",
    "print(tagged_words)"
   ]
  },
  {
   "cell_type": "code",
   "execution_count": 27,
   "id": "f56d2265",
   "metadata": {},
   "outputs": [
    {
     "name": "stdout",
     "output_type": "stream",
     "text": [
      "(S\n",
      "  Final/JJ\n",
      "  exams/NN\n",
      "  of/IN\n",
      "  the/DT\n",
      "  Fall/NN\n",
      "  2023/CD\n",
      "  semester/NN\n",
      "  will/MD\n",
      "  start/VB\n",
      "  soon/RB\n",
      "  ./.)\n"
     ]
    }
   ],
   "source": [
    "ne_tagged_words = nltk.ne_chunk(tagged_words)\n",
    "print(ne_tagged_words)"
   ]
  },
  {
   "cell_type": "code",
   "execution_count": 28,
   "id": "1237d572",
   "metadata": {},
   "outputs": [
    {
     "name": "stderr",
     "output_type": "stream",
     "text": [
      "[nltk_data] Downloading package punkt to /home/spoofy/nltk_data...\n",
      "[nltk_data]   Package punkt is already up-to-date!\n",
      "[nltk_data] Downloading package averaged_perceptron_tagger to\n",
      "[nltk_data]     /home/spoofy/nltk_data...\n",
      "[nltk_data]   Package averaged_perceptron_tagger is already up-to-\n",
      "[nltk_data]       date!\n",
      "[nltk_data] Downloading package maxent_ne_chunker to\n",
      "[nltk_data]     /home/spoofy/nltk_data...\n",
      "[nltk_data]   Package maxent_ne_chunker is already up-to-date!\n",
      "[nltk_data] Downloading package words to /home/spoofy/nltk_data...\n",
      "[nltk_data]   Package words is already up-to-date!\n"
     ]
    },
    {
     "data": {
      "text/plain": [
       "True"
      ]
     },
     "execution_count": 28,
     "metadata": {},
     "output_type": "execute_result"
    }
   ],
   "source": [
    "nltk.download('punkt') # Sentence Tokenize\n",
    "nltk.download('averaged_perceptron_tagger') # POS Tagging\n",
    "nltk.download('maxent_ne_chunker') # Named Entity Chunking\n",
    "nltk.download('words') # Word Tokenize"
   ]
  },
  {
   "cell_type": "code",
   "execution_count": 30,
   "id": "e97b3d8f",
   "metadata": {},
   "outputs": [
    {
     "data": {
      "text/html": [
       "<span class=\"tex2jax_ignore\"><div class=\"entities\" style=\"line-height: 2.5; direction: ltr\">We are nearing \n",
       "<mark class=\"entity\" style=\"background: #bfe1d9; padding: 0.45em 0.6em; margin: 0 0.25em; line-height: 1; border-radius: 0.35em;\">\n",
       "    the end of the semester\n",
       "    <span style=\"font-size: 0.8em; font-weight: bold; line-height: 1; border-radius: 0.35em; vertical-align: middle; margin-left: 0.5rem\">DATE</span>\n",
       "</mark>\n",
       " at \n",
       "<mark class=\"entity\" style=\"background: #feca74; padding: 0.45em 0.6em; margin: 0 0.25em; line-height: 1; border-radius: 0.35em;\">\n",
       "    Peshawar\n",
       "    <span style=\"font-size: 0.8em; font-weight: bold; line-height: 1; border-radius: 0.35em; vertical-align: middle; margin-left: 0.5rem\">GPE</span>\n",
       "</mark>\n",
       ". Final exams of the Fall 2023 semester will start soon.</div></span>"
      ],
      "text/plain": [
       "<IPython.core.display.HTML object>"
      ]
     },
     "metadata": {},
     "output_type": "display_data"
    }
   ],
   "source": [
    "from spacy import displacy\n",
    "doc = nlp(u'We are nearing the end of the semester at Peshawar. Final exams of the Fall 2023 semester will start soon.')\n",
    "displacy.render(doc, style='ent')"
   ]
  },
  {
   "cell_type": "code",
   "execution_count": 32,
   "id": "e7fb1aed",
   "metadata": {},
   "outputs": [
    {
     "name": "stdout",
     "output_type": "stream",
     "text": [
      "the end of the semester DATE\n",
      "Peshawar GPE\n"
     ]
    }
   ],
   "source": [
    "for ent in doc.ents:\n",
    "    print(ent.text, ent.label_)"
   ]
  },
  {
   "cell_type": "code",
   "execution_count": 33,
   "id": "dc5fbdad",
   "metadata": {},
   "outputs": [
    {
     "data": {
      "text/plain": [
       "['tok2vec', 'tagger', 'parser', 'attribute_ruler', 'lemmatizer', 'ner']"
      ]
     },
     "execution_count": 33,
     "metadata": {},
     "output_type": "execute_result"
    }
   ],
   "source": [
    "import spacy\n",
    "nlp = spacy.load('en_core_web_sm')\n",
    "nlp.pipe_names"
   ]
  },
  {
   "cell_type": "code",
   "execution_count": 34,
   "id": "7291a417",
   "metadata": {},
   "outputs": [],
   "source": [
    "nlp = spacy.load('en_core_web_sm',disable=['parser'])"
   ]
  },
  {
   "cell_type": "code",
   "execution_count": 36,
   "id": "259033a5",
   "metadata": {},
   "outputs": [],
   "source": [
    "from spacy.language import Language\n",
    "@Language.component(\"my_component\")\n",
    "def my_component(doc):\n",
    "    # Do something to the doc here\n",
    "    return doc"
   ]
  },
  {
   "cell_type": "code",
   "execution_count": 37,
   "id": "58c0c02e",
   "metadata": {},
   "outputs": [
    {
     "data": {
      "text/plain": [
       "<function __main__.my_component(doc)>"
      ]
     },
     "execution_count": 37,
     "metadata": {},
     "output_type": "execute_result"
    }
   ],
   "source": [
    "nlp.add_pipe(\"my_component\")"
   ]
  },
  {
   "cell_type": "code",
   "execution_count": null,
   "id": "c5c3ce0f",
   "metadata": {},
   "outputs": [],
   "source": [
    "nlp.add_pipe(\"my_component\", first=True)\n",
    "nlp.add_pipe(\"my_component\", last=True)\n",
    "nlp.add_pipe(\"my_component\", before=\"parser\")\n",
    "nlp.add_pipe(\"my_component\", after=\"parser\")"
   ]
  },
  {
   "cell_type": "markdown",
   "id": "11e82811",
   "metadata": {},
   "source": [
    "# Task 4: Finding Patterns in Sentences"
   ]
  },
  {
   "cell_type": "code",
   "execution_count": 45,
   "id": "78878572",
   "metadata": {},
   "outputs": [
    {
     "data": {
      "text/html": [
       "<span class=\"tex2jax_ignore\"><svg xmlns=\"http://www.w3.org/2000/svg\" xmlns:xlink=\"http://www.w3.org/1999/xlink\" xml:lang=\"en\" id=\"42c19e1945f24f09a31fd85406a3289e-0\" class=\"displacy\" width=\"925\" height=\"312.0\" direction=\"ltr\" style=\"max-width: none; height: 312.0px; color: #000000; background: #ffffff; font-family: Arial; direction: ltr\">\n",
       "<text class=\"displacy-token\" fill=\"currentColor\" text-anchor=\"middle\" y=\"222.0\">\n",
       "    <tspan class=\"displacy-word\" fill=\"currentColor\" x=\"50\">I</tspan>\n",
       "    <tspan class=\"displacy-tag\" dy=\"2em\" fill=\"currentColor\" x=\"50\">PRON</tspan>\n",
       "</text>\n",
       "\n",
       "<text class=\"displacy-token\" fill=\"currentColor\" text-anchor=\"middle\" y=\"222.0\">\n",
       "    <tspan class=\"displacy-word\" fill=\"currentColor\" x=\"225\">want</tspan>\n",
       "    <tspan class=\"displacy-tag\" dy=\"2em\" fill=\"currentColor\" x=\"225\">VERB</tspan>\n",
       "</text>\n",
       "\n",
       "<text class=\"displacy-token\" fill=\"currentColor\" text-anchor=\"middle\" y=\"222.0\">\n",
       "    <tspan class=\"displacy-word\" fill=\"currentColor\" x=\"400\">to</tspan>\n",
       "    <tspan class=\"displacy-tag\" dy=\"2em\" fill=\"currentColor\" x=\"400\">PART</tspan>\n",
       "</text>\n",
       "\n",
       "<text class=\"displacy-token\" fill=\"currentColor\" text-anchor=\"middle\" y=\"222.0\">\n",
       "    <tspan class=\"displacy-word\" fill=\"currentColor\" x=\"575\">learn</tspan>\n",
       "    <tspan class=\"displacy-tag\" dy=\"2em\" fill=\"currentColor\" x=\"575\">VERB</tspan>\n",
       "</text>\n",
       "\n",
       "<text class=\"displacy-token\" fill=\"currentColor\" text-anchor=\"middle\" y=\"222.0\">\n",
       "    <tspan class=\"displacy-word\" fill=\"currentColor\" x=\"750\">spaCy.</tspan>\n",
       "    <tspan class=\"displacy-tag\" dy=\"2em\" fill=\"currentColor\" x=\"750\">ADJ</tspan>\n",
       "</text>\n",
       "\n",
       "<g class=\"displacy-arrow\">\n",
       "    <path class=\"displacy-arc\" id=\"arrow-42c19e1945f24f09a31fd85406a3289e-0-0\" stroke-width=\"2px\" d=\"M70,177.0 C70,89.5 220.0,89.5 220.0,177.0\" fill=\"none\" stroke=\"currentColor\"/>\n",
       "    <text dy=\"1.25em\" style=\"font-size: 0.8em; letter-spacing: 1px\">\n",
       "        <textPath xlink:href=\"#arrow-42c19e1945f24f09a31fd85406a3289e-0-0\" class=\"displacy-label\" startOffset=\"50%\" side=\"left\" fill=\"currentColor\" text-anchor=\"middle\">nsubj</textPath>\n",
       "    </text>\n",
       "    <path class=\"displacy-arrowhead\" d=\"M70,179.0 L62,167.0 78,167.0\" fill=\"currentColor\"/>\n",
       "</g>\n",
       "\n",
       "<g class=\"displacy-arrow\">\n",
       "    <path class=\"displacy-arc\" id=\"arrow-42c19e1945f24f09a31fd85406a3289e-0-1\" stroke-width=\"2px\" d=\"M420,177.0 C420,89.5 570.0,89.5 570.0,177.0\" fill=\"none\" stroke=\"currentColor\"/>\n",
       "    <text dy=\"1.25em\" style=\"font-size: 0.8em; letter-spacing: 1px\">\n",
       "        <textPath xlink:href=\"#arrow-42c19e1945f24f09a31fd85406a3289e-0-1\" class=\"displacy-label\" startOffset=\"50%\" side=\"left\" fill=\"currentColor\" text-anchor=\"middle\">aux</textPath>\n",
       "    </text>\n",
       "    <path class=\"displacy-arrowhead\" d=\"M420,179.0 L412,167.0 428,167.0\" fill=\"currentColor\"/>\n",
       "</g>\n",
       "\n",
       "<g class=\"displacy-arrow\">\n",
       "    <path class=\"displacy-arc\" id=\"arrow-42c19e1945f24f09a31fd85406a3289e-0-2\" stroke-width=\"2px\" d=\"M245,177.0 C245,2.0 575.0,2.0 575.0,177.0\" fill=\"none\" stroke=\"currentColor\"/>\n",
       "    <text dy=\"1.25em\" style=\"font-size: 0.8em; letter-spacing: 1px\">\n",
       "        <textPath xlink:href=\"#arrow-42c19e1945f24f09a31fd85406a3289e-0-2\" class=\"displacy-label\" startOffset=\"50%\" side=\"left\" fill=\"currentColor\" text-anchor=\"middle\">xcomp</textPath>\n",
       "    </text>\n",
       "    <path class=\"displacy-arrowhead\" d=\"M575.0,179.0 L583.0,167.0 567.0,167.0\" fill=\"currentColor\"/>\n",
       "</g>\n",
       "\n",
       "<g class=\"displacy-arrow\">\n",
       "    <path class=\"displacy-arc\" id=\"arrow-42c19e1945f24f09a31fd85406a3289e-0-3\" stroke-width=\"2px\" d=\"M595,177.0 C595,89.5 745.0,89.5 745.0,177.0\" fill=\"none\" stroke=\"currentColor\"/>\n",
       "    <text dy=\"1.25em\" style=\"font-size: 0.8em; letter-spacing: 1px\">\n",
       "        <textPath xlink:href=\"#arrow-42c19e1945f24f09a31fd85406a3289e-0-3\" class=\"displacy-label\" startOffset=\"50%\" side=\"left\" fill=\"currentColor\" text-anchor=\"middle\">dobj</textPath>\n",
       "    </text>\n",
       "    <path class=\"displacy-arrowhead\" d=\"M745.0,179.0 L753.0,167.0 737.0,167.0\" fill=\"currentColor\"/>\n",
       "</g>\n",
       "</svg></span>"
      ],
      "text/plain": [
       "<IPython.core.display.HTML object>"
      ]
     },
     "metadata": {},
     "output_type": "display_data"
    }
   ],
   "source": [
    "doc = nlp(u'I want to learn spaCy.')\n",
    "displacy.render(doc, style='dep')"
   ]
  },
  {
   "cell_type": "code",
   "execution_count": 46,
   "id": "4bf0818b",
   "metadata": {},
   "outputs": [
    {
     "data": {
      "text/html": [
       "<span class=\"tex2jax_ignore\"><svg xmlns=\"http://www.w3.org/2000/svg\" xmlns:xlink=\"http://www.w3.org/1999/xlink\" xml:lang=\"en\" id=\"3c85580eb3074bef826aa69aa1007d0e-0\" class=\"displacy\" width=\"925\" height=\"399.5\" direction=\"ltr\" style=\"max-width: none; height: 399.5px; color: #000000; background: #ffffff; font-family: Arial; direction: ltr\">\n",
       "<text class=\"displacy-token\" fill=\"currentColor\" text-anchor=\"middle\" y=\"309.5\">\n",
       "    <tspan class=\"displacy-word\" fill=\"currentColor\" x=\"50\">How</tspan>\n",
       "    <tspan class=\"displacy-tag\" dy=\"2em\" fill=\"currentColor\" x=\"50\">SCONJ</tspan>\n",
       "</text>\n",
       "\n",
       "<text class=\"displacy-token\" fill=\"currentColor\" text-anchor=\"middle\" y=\"309.5\">\n",
       "    <tspan class=\"displacy-word\" fill=\"currentColor\" x=\"225\">do</tspan>\n",
       "    <tspan class=\"displacy-tag\" dy=\"2em\" fill=\"currentColor\" x=\"225\">AUX</tspan>\n",
       "</text>\n",
       "\n",
       "<text class=\"displacy-token\" fill=\"currentColor\" text-anchor=\"middle\" y=\"309.5\">\n",
       "    <tspan class=\"displacy-word\" fill=\"currentColor\" x=\"400\">I</tspan>\n",
       "    <tspan class=\"displacy-tag\" dy=\"2em\" fill=\"currentColor\" x=\"400\">PRON</tspan>\n",
       "</text>\n",
       "\n",
       "<text class=\"displacy-token\" fill=\"currentColor\" text-anchor=\"middle\" y=\"309.5\">\n",
       "    <tspan class=\"displacy-word\" fill=\"currentColor\" x=\"575\">learn</tspan>\n",
       "    <tspan class=\"displacy-tag\" dy=\"2em\" fill=\"currentColor\" x=\"575\">VERB</tspan>\n",
       "</text>\n",
       "\n",
       "<text class=\"displacy-token\" fill=\"currentColor\" text-anchor=\"middle\" y=\"309.5\">\n",
       "    <tspan class=\"displacy-word\" fill=\"currentColor\" x=\"750\">spaCy.</tspan>\n",
       "    <tspan class=\"displacy-tag\" dy=\"2em\" fill=\"currentColor\" x=\"750\">ADJ</tspan>\n",
       "</text>\n",
       "\n",
       "<g class=\"displacy-arrow\">\n",
       "    <path class=\"displacy-arc\" id=\"arrow-3c85580eb3074bef826aa69aa1007d0e-0-0\" stroke-width=\"2px\" d=\"M70,264.5 C70,2.0 575.0,2.0 575.0,264.5\" fill=\"none\" stroke=\"currentColor\"/>\n",
       "    <text dy=\"1.25em\" style=\"font-size: 0.8em; letter-spacing: 1px\">\n",
       "        <textPath xlink:href=\"#arrow-3c85580eb3074bef826aa69aa1007d0e-0-0\" class=\"displacy-label\" startOffset=\"50%\" side=\"left\" fill=\"currentColor\" text-anchor=\"middle\">advmod</textPath>\n",
       "    </text>\n",
       "    <path class=\"displacy-arrowhead\" d=\"M70,266.5 L62,254.5 78,254.5\" fill=\"currentColor\"/>\n",
       "</g>\n",
       "\n",
       "<g class=\"displacy-arrow\">\n",
       "    <path class=\"displacy-arc\" id=\"arrow-3c85580eb3074bef826aa69aa1007d0e-0-1\" stroke-width=\"2px\" d=\"M245,264.5 C245,89.5 570.0,89.5 570.0,264.5\" fill=\"none\" stroke=\"currentColor\"/>\n",
       "    <text dy=\"1.25em\" style=\"font-size: 0.8em; letter-spacing: 1px\">\n",
       "        <textPath xlink:href=\"#arrow-3c85580eb3074bef826aa69aa1007d0e-0-1\" class=\"displacy-label\" startOffset=\"50%\" side=\"left\" fill=\"currentColor\" text-anchor=\"middle\">aux</textPath>\n",
       "    </text>\n",
       "    <path class=\"displacy-arrowhead\" d=\"M245,266.5 L237,254.5 253,254.5\" fill=\"currentColor\"/>\n",
       "</g>\n",
       "\n",
       "<g class=\"displacy-arrow\">\n",
       "    <path class=\"displacy-arc\" id=\"arrow-3c85580eb3074bef826aa69aa1007d0e-0-2\" stroke-width=\"2px\" d=\"M420,264.5 C420,177.0 565.0,177.0 565.0,264.5\" fill=\"none\" stroke=\"currentColor\"/>\n",
       "    <text dy=\"1.25em\" style=\"font-size: 0.8em; letter-spacing: 1px\">\n",
       "        <textPath xlink:href=\"#arrow-3c85580eb3074bef826aa69aa1007d0e-0-2\" class=\"displacy-label\" startOffset=\"50%\" side=\"left\" fill=\"currentColor\" text-anchor=\"middle\">nsubj</textPath>\n",
       "    </text>\n",
       "    <path class=\"displacy-arrowhead\" d=\"M420,266.5 L412,254.5 428,254.5\" fill=\"currentColor\"/>\n",
       "</g>\n",
       "\n",
       "<g class=\"displacy-arrow\">\n",
       "    <path class=\"displacy-arc\" id=\"arrow-3c85580eb3074bef826aa69aa1007d0e-0-3\" stroke-width=\"2px\" d=\"M595,264.5 C595,177.0 740.0,177.0 740.0,264.5\" fill=\"none\" stroke=\"currentColor\"/>\n",
       "    <text dy=\"1.25em\" style=\"font-size: 0.8em; letter-spacing: 1px\">\n",
       "        <textPath xlink:href=\"#arrow-3c85580eb3074bef826aa69aa1007d0e-0-3\" class=\"displacy-label\" startOffset=\"50%\" side=\"left\" fill=\"currentColor\" text-anchor=\"middle\">acomp</textPath>\n",
       "    </text>\n",
       "    <path class=\"displacy-arrowhead\" d=\"M740.0,266.5 L748.0,254.5 732.0,254.5\" fill=\"currentColor\"/>\n",
       "</g>\n",
       "</svg></span>"
      ],
      "text/plain": [
       "<IPython.core.display.HTML object>"
      ]
     },
     "metadata": {},
     "output_type": "display_data"
    }
   ],
   "source": [
    "doc = nlp(u'How do I learn spaCy.')\n",
    "displacy.render(doc, style='dep')"
   ]
  },
  {
   "cell_type": "code",
   "execution_count": 52,
   "id": "2246de5b",
   "metadata": {},
   "outputs": [
    {
     "name": "stdout",
     "output_type": "stream",
     "text": [
      "advmod\n",
      "aux\n",
      "nsubj\n",
      "ROOT\n",
      "acomp\n",
      "Not found\n"
     ]
    }
   ],
   "source": [
    "import spacy\n",
    "nlp = spacy.load('en_core_web_sm')\n",
    "def dep_pattern(doc):\n",
    "    for i in range(len(doc)-1):\n",
    "        print(doc[i].dep_)\n",
    "    if doc[i].dep_ == 'nsubj' and doc[i+1].dep_ == 'ROOT' and doc[i+2].dep_ =='acomp':\n",
    "        return True\n",
    "    return False\n",
    "doc = nlp(u'How do I learn spaCy.')\n",
    "if dep_pattern(doc):\n",
    "        print('Found')\n",
    "else:\n",
    "        print('Not found')"
   ]
  },
  {
   "cell_type": "markdown",
   "id": "2c5bd8ec",
   "metadata": {},
   "source": [
    "# Lab 04 Spacy Chatbot"
   ]
  },
  {
   "cell_type": "markdown",
   "id": "ef1224d7",
   "metadata": {},
   "source": [
    "# Task 5 - Question 1:"
   ]
  },
  {
   "cell_type": "markdown",
   "id": "2de7191b",
   "metadata": {},
   "source": [
    "For the sentence \"The big dog chased everybody,\" the pattern pattern1 [nsubj, ROOT, dobj] will catch the following text and dependencies:\n",
    "\n",
    "Matching Sentence: The big dog chased everybody\n",
    "#### Pattern Type: SubRootObject\n",
    "#### Dependency: The-nsubj\n",
    "#### Dependency: chased-ROOT\n",
    "#### Dependency: everybody-dobj"
   ]
  },
  {
   "cell_type": "markdown",
   "id": "cf83947e",
   "metadata": {},
   "source": [
    "# Task 5 - Question 2:"
   ]
  },
  {
   "cell_type": "code",
   "execution_count": 54,
   "id": "9876119b",
   "metadata": {},
   "outputs": [
    {
     "name": "stdout",
     "output_type": "stream",
     "text": [
      "Matching Sentence:  dog chased the cat\n",
      "Pattern Type:  SubRootDetObject\n",
      "Dependency: dog-nsubj\n",
      "Dependency: chased-ROOT\n",
      "Dependency: the-det\n",
      "Dependency: cat-dobj\n"
     ]
    }
   ],
   "source": [
    "import spacy\n",
    "from spacy.matcher import Matcher\n",
    "from spacy import displacy\n",
    "\n",
    "nlp = spacy.load(\"en_core_web_sm\")\n",
    "matcher = Matcher(nlp.vocab)\n",
    "\n",
    "pattern1 = [{\"DEP\": \"nsubj\"}, {\"DEP\": \"ROOT\"}, {\"DEP\": \"dobj\"}]\n",
    "matcher.add(\"SubRootObject\", [pattern1])\n",
    "\n",
    "pattern2 = [{\"DEP\": \"nsubj\"}, {\"DEP\": \"ROOT\"}, {\"DEP\": \"det\"}, {\"DEP\": \"dobj\"}]\n",
    "matcher.add(\"SubRootDetObject\", [pattern2])\n",
    "\n",
    "doc = nlp(\"The big dog chased the cat\")\n",
    "matches = matcher(doc)\n",
    "\n",
    "for pattern_id, start, end in matches:\n",
    "    print(\"Matching Sentence: \", doc[start:end])\n",
    "    print(\"Pattern Type: \", doc.vocab.strings[pattern_id])\n",
    "    for token in doc[start:end]:\n",
    "        print(\"Dependency: {}-{}\".format(token, token.dep_))\n"
   ]
  },
  {
   "cell_type": "markdown",
   "id": "79350322",
   "metadata": {},
   "source": [
    "# Task 5 - Question 3:"
   ]
  },
  {
   "cell_type": "markdown",
   "id": "acdb47a7",
   "metadata": {},
   "source": [
    "# For the sentence \"The big dog chased the small cat,\" we can design another pattern pattern3 [nsubj, ROOT, det, amod, dobj]:"
   ]
  },
  {
   "cell_type": "code",
   "execution_count": 55,
   "id": "c5e76a44",
   "metadata": {},
   "outputs": [],
   "source": [
    "pattern3 = [{\"DEP\": \"nsubj\"}, {\"DEP\": \"ROOT\"}, {\"DEP\": \"det\"}, {\"DEP\": \"amod\"}, {\"DEP\": \"dobj\"}]\n",
    "matcher.add(\"SubRootDetAmodObject\", [pattern3])\n"
   ]
  },
  {
   "cell_type": "markdown",
   "id": "6dc93ad3",
   "metadata": {},
   "source": [
    "# Pattern to identify a noun at least one time:"
   ]
  },
  {
   "cell_type": "code",
   "execution_count": 56,
   "id": "6352471c",
   "metadata": {},
   "outputs": [],
   "source": [
    "noun_pattern = [{\"POS\": \"NOUN\", \"OP\": \"+\"}]\n"
   ]
  },
  {
   "cell_type": "markdown",
   "id": "2d09a883",
   "metadata": {},
   "source": [
    "# Pattern to identify a noun of length >= 10 characters:"
   ]
  },
  {
   "cell_type": "code",
   "execution_count": 57,
   "id": "5a3f5cc7",
   "metadata": {},
   "outputs": [],
   "source": [
    "long_noun_pattern = [{\"POS\": \"NOUN\", \"LENGTH\": {\">=\": 10}}]\n"
   ]
  },
  {
   "cell_type": "markdown",
   "id": "18dc81c6",
   "metadata": {},
   "source": [
    "# Pattern to identify vulgar language (using IN and NOT_IN):"
   ]
  },
  {
   "cell_type": "code",
   "execution_count": 58,
   "id": "4c82e0fa",
   "metadata": {},
   "outputs": [],
   "source": [
    "vulgar_pattern = [{\"LOWER\": {\"IN\": [\"vulgar\", \"offensive\"]}}]  # Add more words as needed\n",
    "not_vulgar_pattern = [{\"LOWER\": {\"NOT_IN\": [\"polite\", \"respectful\"]}}]  # Add more words as needed\n"
   ]
  },
  {
   "cell_type": "markdown",
   "id": "a01a84f9",
   "metadata": {},
   "source": [
    "# Task 6"
   ]
  },
  {
   "cell_type": "code",
   "execution_count": null,
   "id": "2dc3fd65",
   "metadata": {},
   "outputs": [
    {
     "name": "stdout",
     "output_type": "stream",
     "text": [
      "You: salam\n",
      "Welcome to Pizza ordering system\n",
      "Bot: None\n",
      "You: hi\n",
      "Welcome to Pizza ordering system\n",
      "Bot: None\n",
      "You: hello\n",
      "Welcome to Pizza ordering system\n",
      "Bot: None\n"
     ]
    }
   ],
   "source": [
    "import spacy\n",
    "from spacy.matcher import Matcher\n",
    "from spacy.tokens import Token\n",
    "\n",
    "nlp = spacy.load('en_core_web_sm')\n",
    "\n",
    "def utterance(msg):\n",
    "    doc = nlp(msg)\n",
    "    matcher = Matcher(nlp.vocab)\n",
    "    pattern1 = [{\"LEMMA\": {\"IN\": [\"salam\", \"assalam\", \"hi\", \"hello\"]}}]\n",
    "    pattern2 = [{\"LOWER\": \"order\"}, {\"LOWER\": \"a\"}, {\"LOWER\": \"pizza\"}]\n",
    "    pattern3 = [{\"LOWER\": \"complain\"}, {\"LOWER\": \"about\"}, {\"LOWER\": \"an\"}, {\"LOWER\": \"order\"}]\n",
    "    matcher.add(\"greeting\", [pattern1])\n",
    "    matcher.add(\"order_pizza\", [pattern2])\n",
    "    matcher.add(\"complain_order\", [pattern3])\n",
    "    matches = matcher(doc)\n",
    "    if not matches:\n",
    "        print('Please rephrase your request. Be as specific as possible!')\n",
    "        return\n",
    "    for pattern_id, start, end in matches:\n",
    "        if doc.vocab.strings[pattern_id] == \"greeting\":\n",
    "            print(\"Welcome to Pizza ordering system\")\n",
    "            return\n",
    "        elif doc.vocab.strings[pattern_id] == \"order_pizza\":\n",
    "            print(\"Bot: What type of pizza would you like to order?\")\n",
    "            return\n",
    "        elif doc.vocab.strings[pattern_id] == \"complain_order\":\n",
    "            print(\"Bot: We apologize for the inconvenience. Please provide details of your complaint.\")\n",
    "            return\n",
    "\n",
    "def handle_pizza_order(pizza_type):\n",
    "    print(f\"Bot: How many {pizza_type} pizzas would you like to order?\")\n",
    "    quantity = input(\"You: \")\n",
    "    print(f\"Bot: Please provide your address to confirm the order.\")\n",
    "\n",
    "def handle_complaint():\n",
    "    pass  \n",
    "\n",
    "while True:\n",
    "    message = input(\"You: \")\n",
    "    if message.lower() == \"quit\":\n",
    "        break\n",
    "    else:\n",
    "        doc = nlp(message)\n",
    "        for token in doc:\n",
    "            if token.dep_ == \"dobj\" and token.head.text.lower() == \"order\":\n",
    "                handle_pizza_order(token.text)\n",
    "                break\n",
    "            elif token.text.lower() == \"complain\":\n",
    "                handle_complaint()\n",
    "                break\n",
    "        print(\"Bot:\", utterance(message))\n"
   ]
  },
  {
   "cell_type": "code",
   "execution_count": null,
   "id": "defb52bb",
   "metadata": {},
   "outputs": [],
   "source": []
  }
 ],
 "metadata": {
  "kernelspec": {
   "display_name": "Python 3",
   "language": "python",
   "name": "python3"
  },
  "language_info": {
   "codemirror_mode": {
    "name": "ipython",
    "version": 3
   },
   "file_extension": ".py",
   "mimetype": "text/x-python",
   "name": "python",
   "nbconvert_exporter": "python",
   "pygments_lexer": "ipython3",
   "version": "3.8.10"
  }
 },
 "nbformat": 4,
 "nbformat_minor": 5
}
